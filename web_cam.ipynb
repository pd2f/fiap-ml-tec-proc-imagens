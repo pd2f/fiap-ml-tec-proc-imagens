{
 "cells": [
  {
   "cell_type": "code",
   "execution_count": null,
   "metadata": {},
   "outputs": [],
   "source": [
    "import cv2\n",
    "import matplotlib.pyplot as plt\n",
    "\n",
    "image = cv2.imread(\"./gradiente.png\")\n",
    "plt.title(\"Imagem Original\")\n",
    "plt.imshow(image)\n",
    "plt.show()\n",
    "ret, t_image = cv2.threshold(image, 127, 255, cv2.THRESH_BINARY)\n",
    "plt.title(\"Limiarização binária\")\n",
    "plt.imshow(t_image)\n",
    "plt.show()\n",
    "ret, t_image = cv2.threshold(image, 127, 255, cv2.THRESH_BINARY_INV)\n",
    "plt.title(\"Limiarização binária invertida\")\n",
    "plt.imshow(t_image)\n",
    "plt.show()"
   ]
  },
  {
   "cell_type": "code",
   "execution_count": null,
   "metadata": {
    "scrolled": true
   },
   "outputs": [],
   "source": [
    "_, t_image = cv2.threshold(image, 127, 255, cv2.THRESH_TRUNC)\n",
    "plt.title(\"Limiarização por truncagem\")\n",
    "plt.imshow(t_image)\n",
    "plt.show()\n",
    "ret, t_image = cv2.threshold(image, 127, 255, cv2.THRESH_TOZERO)\n",
    "plt.title(\"Limiarização para zero\")\n",
    "plt.imshow(t_image)\n",
    "plt.show()\n",
    "ret, t_image = cv2.threshold(image, 127, 255, cv2.THRESH_TOZERO_INV)\n",
    "plt.title(\"Limiarização para zero invertido\")\n",
    "plt.imshow(t_image)\n",
    "plt.show()"
   ]
  },
  {
   "cell_type": "code",
   "execution_count": null,
   "metadata": {},
   "outputs": [],
   "source": [
    "cam_capture = cv2.VideoCapture(0)\n",
    "\n",
    "while True:\n",
    "   ret, frame = cam_capture.read()\n",
    "\n",
    "   if ret:\n",
    "       frame_gray = cv2.cvtColor(frame,cv2.COLOR_BGR2GRAY)\n",
    "       _, imagem_limiarizada = cv2.threshold(frame_gray, 100, 255, cv2.THRESH_BINARY_INV)\n",
    "       cv2.imshow(\"Camera\", imagem_limiarizada)\n",
    "\n",
    "   if cv2.waitKey(1) == 13:\n",
    "       break\n",
    "\n",
    "cam_capture.release()\n",
    "cv2.destroyAllWindows()"
   ]
  },
  {
   "cell_type": "code",
   "execution_count": null,
   "metadata": {},
   "outputs": [],
   "source": [
    "cam_capture.release()"
   ]
  },
  {
   "cell_type": "code",
   "execution_count": null,
   "metadata": {},
   "outputs": [],
   "source": []
  },
  {
   "cell_type": "code",
   "execution_count": null,
   "metadata": {},
   "outputs": [],
   "source": [
    "cam_capture = cv2.VideoCapture(0)\n",
    "\n",
    "while True:\n",
    "    ret, frame = cam_capture.read()\n",
    "    \n",
    "    if ret:\n",
    "        frame_gray = cv2.cvtColor(frame,cv2.COLOR_BGR2GRAY)\n",
    "        imagem_limiarizada = cv2.adaptiveThreshold(frame_gray, 255,cv2.ADAPTIVE_THRESH_GAUSSIAN_C, cv2.THRESH_BINARY, 11, 2)\n",
    "        cv2.imshow(\"Camera\", imagem_limiarizada)\n",
    " \n",
    "    if cv2.waitKey(1) == 13:\n",
    "        break\n",
    "        \n",
    "cam_capture.release()\n",
    "cv2.destroyAllWindows()"
   ]
  },
  {
   "cell_type": "code",
   "execution_count": 1,
   "metadata": {},
   "outputs": [],
   "source": [
    "import cv2\n",
    "import matplotlib.pyplot as plt"
   ]
  },
  {
   "cell_type": "code",
   "execution_count": 2,
   "metadata": {},
   "outputs": [],
   "source": [
    "image_robo = cv2.imread(\"robocop.jpg\", cv2.IMREAD_GRAYSCALE)"
   ]
  },
  {
   "cell_type": "code",
   "execution_count": 3,
   "metadata": {},
   "outputs": [],
   "source": [
    "canny = cv2.Canny(image_robo, 30, 190)"
   ]
  },
  {
   "cell_type": "code",
   "execution_count": 4,
   "metadata": {},
   "outputs": [
    {
     "ename": "NameError",
     "evalue": "name 'image' is not defined",
     "output_type": "error",
     "traceback": [
      "\u001b[1;31m---------------------------------------------------------------------------\u001b[0m",
      "\u001b[1;31mNameError\u001b[0m                                 Traceback (most recent call last)",
      "\u001b[1;32m<ipython-input-4-7ceb7497f698>\u001b[0m in \u001b[0;36m<module>\u001b[1;34m()\u001b[0m\n\u001b[0;32m      1\u001b[0m \u001b[0mcv2\u001b[0m\u001b[1;33m.\u001b[0m\u001b[0mimshow\u001b[0m\u001b[1;33m(\u001b[0m\u001b[1;34m\"robocop\"\u001b[0m\u001b[1;33m,\u001b[0m \u001b[0mcanny\u001b[0m\u001b[1;33m)\u001b[0m\u001b[1;33m\u001b[0m\u001b[0m\n\u001b[0;32m      2\u001b[0m \u001b[0mcv2\u001b[0m\u001b[1;33m.\u001b[0m\u001b[0mwaitKey\u001b[0m\u001b[1;33m(\u001b[0m\u001b[1;33m)\u001b[0m\u001b[1;33m\u001b[0m\u001b[0m\n\u001b[1;32m----> 3\u001b[1;33m \u001b[0mcanny\u001b[0m \u001b[1;33m=\u001b[0m \u001b[0mcv2\u001b[0m\u001b[1;33m.\u001b[0m\u001b[0mCanny\u001b[0m\u001b[1;33m(\u001b[0m\u001b[0mimage\u001b[0m\u001b[1;33m,\u001b[0m \u001b[1;36m70\u001b[0m\u001b[1;33m,\u001b[0m \u001b[1;36m150\u001b[0m\u001b[1;33m)\u001b[0m\u001b[1;33m\u001b[0m\u001b[0m\n\u001b[0m\u001b[0;32m      4\u001b[0m \u001b[0mcv2\u001b[0m\u001b[1;33m.\u001b[0m\u001b[0mimshow\u001b[0m\u001b[1;33m(\u001b[0m\u001b[1;34m\"Robocop Grayscale\"\u001b[0m\u001b[1;33m,\u001b[0m \u001b[0mcanny\u001b[0m\u001b[1;33m)\u001b[0m\u001b[1;33m\u001b[0m\u001b[0m\n\u001b[0;32m      5\u001b[0m \u001b[0mcv2\u001b[0m\u001b[1;33m.\u001b[0m\u001b[0mwaitKey\u001b[0m\u001b[1;33m(\u001b[0m\u001b[1;33m)\u001b[0m\u001b[1;33m\u001b[0m\u001b[0m\n",
      "\u001b[1;31mNameError\u001b[0m: name 'image' is not defined"
     ]
    }
   ],
   "source": [
    "cv2.imshow(\"robocop\", canny)\n",
    "cv2.waitKey()\n",
    "canny = cv2.Canny(image, 70, 150)\n",
    "cv2.imshow(\"Robocop Grayscale\", canny)\n",
    "cv2.waitKey()\n",
    "cv2.destroyAllWindows()\n",
    "ret, t_image = cv2.threshold(canny, 100, 255, cv2.THRESH_BINARY)\n",
    "cv2.imshow(\"Document Binary Threshold\", t_image)\n",
    "cv2.waitKey()\n",
    "cv2.destroyAllWindows()"
   ]
  },
  {
   "cell_type": "code",
   "execution_count": null,
   "metadata": {},
   "outputs": [],
   "source": [
    "import cv2\n",
    "image = cv2.imread(\"imagens/sudoku.jpg\", cv2.IMREAD_GRAYSCALE)\n",
    "cv2.imshow(\"Document Original\", image)\n",
    "cv2.waitKey()\n",
    "cv2.destroyAllWindows()\n",
    "ret, t_image = cv2.threshold(image, 100, 255, cv2.THRESH_BINARY)\n",
    "cv2.imshow(\"Document Binary Threshold\", t_image)\n",
    "cv2.waitKey()\n",
    "cv2.destroyAllWindows()"
   ]
  },
  {
   "cell_type": "code",
   "execution_count": null,
   "metadata": {},
   "outputs": [],
   "source": []
  },
  {
   "cell_type": "code",
   "execution_count": null,
   "metadata": {},
   "outputs": [],
   "source": []
  }
 ],
 "metadata": {
  "kernelspec": {
   "display_name": "Python 3",
   "language": "python",
   "name": "python3"
  },
  "language_info": {
   "codemirror_mode": {
    "name": "ipython",
    "version": 3
   },
   "file_extension": ".py",
   "mimetype": "text/x-python",
   "name": "python",
   "nbconvert_exporter": "python",
   "pygments_lexer": "ipython3",
   "version": "3.6.4"
  }
 },
 "nbformat": 4,
 "nbformat_minor": 2
}
